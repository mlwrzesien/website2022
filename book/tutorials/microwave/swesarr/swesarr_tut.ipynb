{
 "cells": [
  {
   "cell_type": "markdown",
   "id": "9fdd3e66",
   "metadata": {
    "pycharm": {
     "name": "#%% md\n"
    }
   },
   "source": [
    "# SWESARR"
   ]
  },
  {
   "cell_type": "markdown",
   "source": [
    "![NASA](http://www.nasa.gov/sites/all/themes/custom/nasatwo/images/nasa-logo.svg)\n",
    "\n",
    "<div>\n",
    "<img src=\"https://blogs.nasa.gov/swesarr/wp-content/uploads/sites/305/2021/06/swesarr.png\" width=\"1589\"/>\n",
    "</div>\n",
    "\n",
    "\n",
    "<center>\n",
    "<h1><font size=\"+3\">SWESARR Tutorial</font></h1>\n",
    "</center>\n",
    "\n",
    "---\n",
    "\n",
    "<CENTER>\n",
    "<H1 style=\"color:red\">\n",
    "Introduction\n",
    "</H1>\n",
    "</CENTER>\n"
   ],
   "metadata": {
    "collapsed": false,
    "pycharm": {
     "name": "#%% md\n"
    }
   }
  },
  {
   "cell_type": "code",
   "execution_count": null,
   "outputs": [],
   "source": [],
   "metadata": {
    "collapsed": false,
    "pycharm": {
     "name": "#%%\n"
    }
   }
  },
  {
   "cell_type": "code",
   "execution_count": null,
   "id": "745ceae6-8780-441f-b64b-4ef5d7e7960d",
   "metadata": {},
   "outputs": [],
   "source": []
  }
 ],
 "metadata": {
  "language_info": {
   "name": "python"
  }
 },
 "nbformat": 4,
 "nbformat_minor": 5
}